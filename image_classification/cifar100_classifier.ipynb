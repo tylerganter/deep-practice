{
  "nbformat": 4,
  "nbformat_minor": 0,
  "metadata": {
    "colab": {
      "name": "cifar100_classifier.ipynb",
      "provenance": [],
      "include_colab_link": true
    },
    "kernelspec": {
      "name": "python3",
      "display_name": "Python 3"
    }
  },
  "cells": [
    {
      "cell_type": "markdown",
      "metadata": {
        "id": "view-in-github",
        "colab_type": "text"
      },
      "source": [
        "<a href=\"https://colab.research.google.com/github/tylerganter/deep-practice/blob/master/cifar100_classifier.ipynb\" target=\"_parent\"><img src=\"https://colab.research.google.com/assets/colab-badge.svg\" alt=\"Open In Colab\"/></a>"
      ]
    },
    {
      "cell_type": "markdown",
      "metadata": {
        "id": "ei1fbaq0S2Pg",
        "colab_type": "text"
      },
      "source": [
        "# Practice with TF 2.0 and Keras\n",
        "\n",
        "## Classifier Objectives:\n",
        "- (follow the [recipe](http://karpathy.github.io/2019/04/25/recipe/)!)\n",
        "- ~~train a classifier~~\n",
        "- move to colab\n",
        "- use GPUs\n",
        "- warm log to tensorboard\n",
        "- warm log to mlflow\n",
        "- train using TFRecords\n",
        "- view ??? curves\n",
        "- optimize thresholds\n",
        "- fine-tune a classifier"
      ]
    },
    {
      "cell_type": "markdown",
      "metadata": {
        "id": "myj1nI8UKief",
        "colab_type": "text"
      },
      "source": [
        "## 0) Imports"
      ]
    },
    {
      "cell_type": "code",
      "metadata": {
        "id": "X3R17sW1Ld0N",
        "colab_type": "code",
        "colab": {}
      },
      "source": [
        "import random\n",
        "\n",
        "import numpy as np\n",
        "import matplotlib.pyplot as plt\n",
        "import tensorflow as tf\n",
        "\n",
        "from tensorflow.keras.datasets import cifar100\n",
        "from tensorflow.keras import layers, models"
      ],
      "execution_count": 0,
      "outputs": []
    },
    {
      "cell_type": "markdown",
      "metadata": {
        "id": "jdQqig38TBtg",
        "colab_type": "text"
      },
      "source": [
        "## 1) Become one with the data"
      ]
    },
    {
      "cell_type": "code",
      "metadata": {
        "id": "QO6mQjy5TDxu",
        "colab_type": "code",
        "colab": {}
      },
      "source": [
        "fine_labels_map = [\n",
        "    'apple', 'aquarium_fish', 'baby', 'bear', 'beaver', 'bed', 'bee', 'beetle', 'bicycle', 'bottle', 'bowl', 'boy', 'bridge', 'bus',\n",
        "    'butterfly', 'camel', 'can', 'castle', 'caterpillar', 'cattle', 'chair', 'chimpanzee', 'clock', 'cloud', 'cockroach', 'couch',\n",
        "    'crab', 'crocodile', 'cup', 'dinosaur', 'dolphin', 'elephant', 'flatfish', 'forest', 'fox', 'girl', 'hamster', 'house',\n",
        "    'kangaroo', 'computer_keyboard', 'lamp', 'lawn_mower', 'leopard', 'lion', 'lizard', 'lobster', 'man', 'maple_tree', 'motorcycle',\n",
        "    'mountain', 'mouse', 'mushroom', 'oak_tree', 'orange', 'orchid', 'otter', 'palm_tree', 'pear', 'pickup_truck', 'pine_tree',\n",
        "    'plain', 'plate', 'poppy', 'porcupine', 'possum', 'rabbit', 'raccoon', 'ray', 'road', 'rocket', 'rose', 'sea', 'seal', 'shark',\n",
        "    'shrew', 'skunk', 'skyscraper', 'snail', 'snake', 'spider', 'squirrel', 'streetcar', 'sunflower', 'sweet_pepper', 'table',\n",
        "    'tank', 'telephone', 'television', 'tiger', 'tractor', 'train', 'trout', 'tulip', 'turtle', 'wardrobe', 'whale', 'willow_tree',\n",
        "    'wolf', 'woman', 'worm'\n",
        "]\n",
        "\n",
        "coarse_2_fine_mapping = {\n",
        "    'aquatic mammals': ['beaver', 'dolphin', 'otter', 'seal', 'whale'],\n",
        "    'fish': ['aquarium_fish', 'flatfish', 'ray', 'shark', 'trout'],\n",
        "    'flowers': ['orchid', 'poppy', 'rose', 'sunflower', 'tulip'],\n",
        "    'food containers': ['bottle', 'bowl', 'can', 'cup', 'plate'],\n",
        "    'fruit and vegetables': ['apple', 'mushroom', 'orange', 'pear', 'sweet_pepper'],\n",
        "    'household electrical device': ['clock', 'computer_keyboard', 'lamp', 'telephone', 'television'],\n",
        "    'household furniture': ['bed', 'chair', 'couch', 'table', 'wardrobe'],\n",
        "    'insects': ['bee', 'beetle', 'butterfly', 'caterpillar', 'cockroach'],\n",
        "    'large carnivores': ['bear', 'leopard', 'lion', 'tiger', 'wolf'],\n",
        "    'large man-made outdoor things': ['bridge', 'castle', 'house', 'road', 'skyscraper'],\n",
        "    'large natural outdoor scenes': ['cloud', 'forest', 'mountain', 'plain', 'sea'],\n",
        "    'large omnivores and herbivores': ['camel', 'cattle', 'chimpanzee', 'elephant', 'kangaroo'],\n",
        "    'medium-sized mammals': ['fox', 'porcupine', 'possum', 'raccoon', 'skunk'],\n",
        "    'non-insect invertebrates': ['crab', 'lobster', 'snail', 'spider', 'worm'],\n",
        "    'people': ['baby', 'boy', 'girl', 'man', 'woman'],\n",
        "    'reptiles': ['crocodile', 'dinosaur', 'lizard', 'snake', 'turtle'],\n",
        "    'small mammals': ['hamster', 'mouse', 'rabbit', 'shrew', 'squirrel'],\n",
        "    'trees': ['maple_tree', 'oak_tree', 'palm_tree', 'pine_tree', 'willow_tree'],\n",
        "    'vehicles 1': ['bicycle', 'bus', 'motorcycle', 'pickup_truck', 'train'],\n",
        "    'vehicles 2': ['lawn_mower', 'rocket', 'streetcar', 'tank', 'tractor'],\n",
        "}"
      ],
      "execution_count": 0,
      "outputs": []
    },
    {
      "cell_type": "code",
      "metadata": {
        "id": "tr5uBFSaTEpl",
        "colab_type": "code",
        "colab": {}
      },
      "source": [
        "fine_labels_map = [\n",
        "    'apple', 'aquarium_fish', 'baby', 'bear', 'beaver', 'bed', 'bee', 'beetle', 'bicycle', 'bottle', 'bowl', 'boy', 'bridge', 'bus',\n",
        "    'butterfly', 'camel', 'can', 'castle', 'caterpillar', 'cattle', 'chair', 'chimpanzee', 'clock', 'cloud', 'cockroach', 'couch',\n",
        "    'crab', 'crocodile', 'cup', 'dinosaur', 'dolphin', 'elephant', 'flatfish', 'forest', 'fox', 'girl', 'hamster', 'house',\n",
        "    'kangaroo', 'computer_keyboard', 'lamp', 'lawn_mower', 'leopard', 'lion', 'lizard', 'lobster', 'man', 'maple_tree', 'motorcycle',\n",
        "    'mountain', 'mouse', 'mushroom', 'oak_tree', 'orange', 'orchid', 'otter', 'palm_tree', 'pear', 'pickup_truck', 'pine_tree',\n",
        "    'plain', 'plate', 'poppy', 'porcupine', 'possum', 'rabbit', 'raccoon', 'ray', 'road', 'rocket', 'rose', 'sea', 'seal', 'shark',\n",
        "    'shrew', 'skunk', 'skyscraper', 'snail', 'snake', 'spider', 'squirrel', 'streetcar', 'sunflower', 'sweet_pepper', 'table',\n",
        "    'tank', 'telephone', 'television', 'tiger', 'tractor', 'train', 'trout', 'tulip', 'turtle', 'wardrobe', 'whale', 'willow_tree',\n",
        "    'wolf', 'woman', 'worm'\n",
        "]\n",
        "\n",
        "coarse_2_fine_mapping = {\n",
        "    'aquatic mammals': ['beaver', 'dolphin', 'otter', 'seal', 'whale'],\n",
        "    'fish': ['aquarium_fish', 'flatfish', 'ray', 'shark', 'trout'],\n",
        "    'flowers': ['orchid', 'poppy', 'rose', 'sunflower', 'tulip'],\n",
        "    'food containers': ['bottle', 'bowl', 'can', 'cup', 'plate'],\n",
        "    'fruit and vegetables': ['apple', 'mushroom', 'orange', 'pear', 'sweet_pepper'],\n",
        "    'household electrical device': ['clock', 'computer_keyboard', 'lamp', 'telephone', 'television'],\n",
        "    'household furniture': ['bed', 'chair', 'couch', 'table', 'wardrobe'],\n",
        "    'insects': ['bee', 'beetle', 'butterfly', 'caterpillar', 'cockroach'],\n",
        "    'large carnivores': ['bear', 'leopard', 'lion', 'tiger', 'wolf'],\n",
        "    'large man-made outdoor things': ['bridge', 'castle', 'house', 'road', 'skyscraper'],\n",
        "    'large natural outdoor scenes': ['cloud', 'forest', 'mountain', 'plain', 'sea'],\n",
        "    'large omnivores and herbivores': ['camel', 'cattle', 'chimpanzee', 'elephant', 'kangaroo'],\n",
        "    'medium-sized mammals': ['fox', 'porcupine', 'possum', 'raccoon', 'skunk'],\n",
        "    'non-insect invertebrates': ['crab', 'lobster', 'snail', 'spider', 'worm'],\n",
        "    'people': ['baby', 'boy', 'girl', 'man', 'woman'],\n",
        "    'reptiles': ['crocodile', 'dinosaur', 'lizard', 'snake', 'turtle'],\n",
        "    'small mammals': ['hamster', 'mouse', 'rabbit', 'shrew', 'squirrel'],\n",
        "    'trees': ['maple_tree', 'oak_tree', 'palm_tree', 'pine_tree', 'willow_tree'],\n",
        "    'vehicles 1': ['bicycle', 'bus', 'motorcycle', 'pickup_truck', 'train'],\n",
        "    'vehicles 2': ['lawn_mower', 'rocket', 'streetcar', 'tank', 'tractor'],\n",
        "}"
      ],
      "execution_count": 0,
      "outputs": []
    },
    {
      "cell_type": "code",
      "metadata": {
        "id": "byLxdU7PKXoo",
        "colab_type": "code",
        "colab": {}
      },
      "source": [
        "(x_train, y_train), (x_test, y_test) = cifar100.load_data(label_mode='fine')"
      ],
      "execution_count": 0,
      "outputs": []
    },
    {
      "cell_type": "code",
      "metadata": {
        "id": "o67DsfgZKZNd",
        "colab_type": "code",
        "colab": {}
      },
      "source": [
        "input_shape = x_train[0].shape\n",
        "num_classes = len(fine_labels_map)\n",
        "\n",
        "print(\"Input data type: '{}'\".format(x_train.dtype))\n",
        "print(\"Input image shape: {}\".format(input_shape))\n",
        "print(\"Num training samples: {}\".format(x_train.shape[0]))\n",
        "print(\"Num test samples:     {}\".format(x_test.shape[0]))\n",
        "print(\"Num labels:             {}\".format(num_classes))\n",
        "print()\n",
        "\n",
        "print(\"Training Input:\")\n",
        "print(\"  range: [{}, {}]\".format(np.min(x_train), np.max(x_train)))\n",
        "print(\"  mean:   {:.2f}\".format(np.mean(x_train)))\n",
        "print(\"  median: {:.2f}\".format(np.median(x_train)))\n",
        "print(\"  standard deviation: {:.2f}\".format(np.std(x_train)))\n",
        "print(\"Test Input:\")\n",
        "print(\"  range: [{}, {}]\".format(np.min(x_test), np.max(x_test)))\n",
        "print(\"  mean:   {:.2f}\".format(np.mean(x_test)))\n",
        "print(\"  median: {:.2f}\".format(np.median(x_test)))\n",
        "print(\"  standard deviation: {:.2f}\".format(np.std(x_test)))\n",
        "print()\n",
        "\n",
        "plt.subplot(121)\n",
        "plt.hist(y_train, bins=num_classes)\n",
        "plt.title(\"Histogram of Training Labels\")\n",
        "\n",
        "plt.subplot(122)\n",
        "plt.hist(y_test, bins=num_classes);\n",
        "plt.title(\"Histogram of Test Labels\");"
      ],
      "execution_count": 0,
      "outputs": []
    },
    {
      "cell_type": "code",
      "metadata": {
        "id": "QQk8p0jwKbIt",
        "colab_type": "code",
        "colab": {}
      },
      "source": [
        "NUM_ROWS = 5\n",
        "NUM_COLS = 10\n",
        "\n",
        "fig, axes = plt.subplots(NUM_ROWS, NUM_COLS, figsize=(25, 15))\n",
        "\n",
        "for i in range(NUM_ROWS):\n",
        "    for j in range(NUM_COLS):\n",
        "        # select a random sample        \n",
        "        IDX = random.randint(0, x_train.shape[0])\n",
        "        \n",
        "        ax = axes[i, j]\n",
        "        ax.imshow(x_train[IDX])\n",
        "        ax.set_title(fine_labels_map[int(y_train[IDX])])\n",
        "        ax.get_xaxis().set_visible(False)\n",
        "        ax.get_yaxis().set_visible(False)"
      ],
      "execution_count": 0,
      "outputs": []
    },
    {
      "cell_type": "markdown",
      "metadata": {
        "id": "OdWg4t9YKdoe",
        "colab_type": "text"
      },
      "source": [
        "## 2. Set up the end-to-end training/evaluation skeleton + get dumb baselines"
      ]
    },
    {
      "cell_type": "code",
      "metadata": {
        "id": "Mo2PclSiKgJy",
        "colab_type": "code",
        "colab": {}
      },
      "source": [
        "# normalize the input data\n",
        "x_train_normalized = x_train / 255.\n",
        "x_test_normalized = x_test / 255.\n",
        "\n",
        "# convert the labels to categorical\n",
        "y_train_cat = tf.keras.utils.to_categorical(y_train)\n",
        "y_test_cat = tf.keras.utils.to_categorical(y_test)\n",
        "\n",
        "print(\"Train label shape: {}\".format(y_train_cat.shape))\n",
        "print(\"Test label shape:  {}\".format(y_test_cat.shape))"
      ],
      "execution_count": 0,
      "outputs": []
    },
    {
      "cell_type": "markdown",
      "metadata": {
        "id": "gDe-q9CbLBzD",
        "colab_type": "text"
      },
      "source": [
        "### Fully-Connected Network"
      ]
    },
    {
      "cell_type": "code",
      "metadata": {
        "id": "WNH__owqKpex",
        "colab_type": "code",
        "colab": {}
      },
      "source": [
        "fc_model = models.Sequential()\n",
        "fc_model.add(layers.Dense(512, activation=\"relu\", input_shape=(np.prod(input_shape),)))\n",
        "fc_model.add(layers.Dense(num_classes, activation=\"relu\"))\n",
        "\n",
        "fc_model.summary()"
      ],
      "execution_count": 0,
      "outputs": []
    },
    {
      "cell_type": "code",
      "metadata": {
        "id": "RzjNTg4CKsLs",
        "colab_type": "code",
        "colab": {}
      },
      "source": [
        "# compile model\n",
        "fc_model.compile(\n",
        "    optimizer=\"adam\",\n",
        "    loss=\"categorical_crossentropy\",\n",
        "    metrics=[\"accuracy\"]\n",
        ")\n",
        "\n",
        "# flatten the input data\n",
        "x_train_flat = x_train.reshape(x_train_normalized.shape[0], -1)\n",
        "x_test_flat = x_test.reshape(x_test_normalized.shape[0], -1)\n",
        "\n",
        "print(\"Train input shape: {}\".format(x_train_flat.shape))\n",
        "print(\"Test input shape:  {}\".format(x_test_flat.shape))"
      ],
      "execution_count": 0,
      "outputs": []
    },
    {
      "cell_type": "code",
      "metadata": {
        "id": "YXitybImK2iI",
        "colab_type": "code",
        "colab": {}
      },
      "source": [
        "# train!\n",
        "fc_model.fit(x_train_flat, y_train_cat, epochs=10, batch_size=128);"
      ],
      "execution_count": 0,
      "outputs": []
    },
    {
      "cell_type": "code",
      "metadata": {
        "id": "OA5YBWHuK4Dl",
        "colab_type": "code",
        "colab": {}
      },
      "source": [
        "test_loss, test_acc = fc_model.evaluate(x_test_flat, y_test_cat, verbose=0)\n",
        "print(\"Test accuracy: {:.4f}\".format(test_acc))"
      ],
      "execution_count": 0,
      "outputs": []
    },
    {
      "cell_type": "markdown",
      "metadata": {
        "id": "roc53c6MK5ua",
        "colab_type": "text"
      },
      "source": [
        "### Convolutional Network"
      ]
    },
    {
      "cell_type": "code",
      "metadata": {
        "id": "woQPUbyAK6CH",
        "colab_type": "code",
        "colab": {}
      },
      "source": [
        "conv_model = models.Sequential()\n",
        "conv_model.add(layers.Conv2D(32, (3, 3), activation=\"relu\", input_shape=input_shape))\n",
        "conv_model.add(layers.MaxPooling2D((2, 2)))\n",
        "conv_model.add(layers.Conv2D(64, (3, 3), activation=\"relu\"))\n",
        "conv_model.add(layers.MaxPooling2D((2, 2)))\n",
        "conv_model.add(layers.Conv2D(64, (3, 3), activation=\"relu\"))\n",
        "\n",
        "conv_model.summary()"
      ],
      "execution_count": 0,
      "outputs": []
    }
  ]
}