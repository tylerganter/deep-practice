{
  "nbformat": 4,
  "nbformat_minor": 0,
  "metadata": {
    "colab": {
      "name": "dlwp_3.5.ipynb",
      "provenance": [],
      "collapsed_sections": [
        "Men4WYpVQoj5",
        "zbVWgKYiQw1O"
      ],
      "include_colab_link": true
    },
    "kernelspec": {
      "name": "python3",
      "display_name": "Python 3"
    },
    "accelerator": "GPU"
  },
  "cells": [
    {
      "cell_type": "markdown",
      "metadata": {
        "id": "view-in-github",
        "colab_type": "text"
      },
      "source": [
        "<a href=\"https://colab.research.google.com/github/tylerganter/deep-practice/blob/master/dlwp/dlwp_3_5.ipynb\" target=\"_parent\"><img src=\"https://colab.research.google.com/assets/colab-badge.svg\" alt=\"Open In Colab\"/></a>"
      ]
    },
    {
      "cell_type": "markdown",
      "metadata": {
        "id": "5XFVHplfLe42",
        "colab_type": "text"
      },
      "source": [
        "# Deep Learning with Python\n",
        "## 3.5 Classifying news wires: a multiclass classification example"
      ]
    },
    {
      "cell_type": "markdown",
      "metadata": {
        "id": "PjUMmF2XFFTj",
        "colab_type": "text"
      },
      "source": [
        "## Setup / Config"
      ]
    },
    {
      "cell_type": "code",
      "metadata": {
        "id": "cQ0HgkeRuuaB",
        "colab_type": "code",
        "outputId": "2e99e91e-aec2-4118-9d26-cc193a5138a1",
        "colab": {
          "base_uri": "https://localhost:8080/",
          "height": 1000
        }
      },
      "source": [
        "!pip uninstall tensorflow-gpu\n",
        "!pip install tensorflow-gpu"
      ],
      "execution_count": 1,
      "outputs": [
        {
          "output_type": "stream",
          "text": [
            "\u001b[33mWARNING: Skipping tensorflow-gpu as it is not installed.\u001b[0m\n",
            "Collecting tensorflow-gpu\n",
            "\u001b[?25l  Downloading https://files.pythonhosted.org/packages/0a/93/c7bca39b23aae45cd2e85ad3871c81eccc63b9c5276e926511e2e5b0879d/tensorflow_gpu-2.1.0-cp36-cp36m-manylinux2010_x86_64.whl (421.8MB)\n",
            "\u001b[K     |████████████████████████████████| 421.8MB 40kB/s \n",
            "\u001b[?25hRequirement already satisfied: numpy<2.0,>=1.16.0 in /usr/local/lib/python3.6/dist-packages (from tensorflow-gpu) (1.17.5)\n",
            "Requirement already satisfied: astor>=0.6.0 in /usr/local/lib/python3.6/dist-packages (from tensorflow-gpu) (0.8.1)\n",
            "Requirement already satisfied: termcolor>=1.1.0 in /usr/local/lib/python3.6/dist-packages (from tensorflow-gpu) (1.1.0)\n",
            "Requirement already satisfied: protobuf>=3.8.0 in /usr/local/lib/python3.6/dist-packages (from tensorflow-gpu) (3.10.0)\n",
            "Requirement already satisfied: wheel>=0.26; python_version >= \"3\" in /usr/local/lib/python3.6/dist-packages (from tensorflow-gpu) (0.34.2)\n",
            "Requirement already satisfied: keras-preprocessing>=1.1.0 in /usr/local/lib/python3.6/dist-packages (from tensorflow-gpu) (1.1.0)\n",
            "Collecting tensorflow-estimator<2.2.0,>=2.1.0rc0\n",
            "\u001b[?25l  Downloading https://files.pythonhosted.org/packages/18/90/b77c328a1304437ab1310b463e533fa7689f4bfc41549593056d812fab8e/tensorflow_estimator-2.1.0-py2.py3-none-any.whl (448kB)\n",
            "\u001b[K     |████████████████████████████████| 450kB 61.2MB/s \n",
            "\u001b[?25hRequirement already satisfied: google-pasta>=0.1.6 in /usr/local/lib/python3.6/dist-packages (from tensorflow-gpu) (0.1.8)\n",
            "Requirement already satisfied: keras-applications>=1.0.8 in /usr/local/lib/python3.6/dist-packages (from tensorflow-gpu) (1.0.8)\n",
            "Requirement already satisfied: six>=1.12.0 in /usr/local/lib/python3.6/dist-packages (from tensorflow-gpu) (1.12.0)\n",
            "Requirement already satisfied: wrapt>=1.11.1 in /usr/local/lib/python3.6/dist-packages (from tensorflow-gpu) (1.11.2)\n",
            "Requirement already satisfied: scipy==1.4.1; python_version >= \"3\" in /usr/local/lib/python3.6/dist-packages (from tensorflow-gpu) (1.4.1)\n",
            "Requirement already satisfied: absl-py>=0.7.0 in /usr/local/lib/python3.6/dist-packages (from tensorflow-gpu) (0.9.0)\n",
            "Requirement already satisfied: opt-einsum>=2.3.2 in /usr/local/lib/python3.6/dist-packages (from tensorflow-gpu) (3.1.0)\n",
            "Requirement already satisfied: grpcio>=1.8.6 in /usr/local/lib/python3.6/dist-packages (from tensorflow-gpu) (1.15.0)\n",
            "Requirement already satisfied: gast==0.2.2 in /usr/local/lib/python3.6/dist-packages (from tensorflow-gpu) (0.2.2)\n",
            "Collecting tensorboard<2.2.0,>=2.1.0\n",
            "\u001b[?25l  Downloading https://files.pythonhosted.org/packages/40/23/53ffe290341cd0855d595b0a2e7485932f473798af173bbe3a584b99bb06/tensorboard-2.1.0-py3-none-any.whl (3.8MB)\n",
            "\u001b[K     |████████████████████████████████| 3.8MB 57.2MB/s \n",
            "\u001b[?25hRequirement already satisfied: setuptools in /usr/local/lib/python3.6/dist-packages (from protobuf>=3.8.0->tensorflow-gpu) (45.1.0)\n",
            "Requirement already satisfied: h5py in /usr/local/lib/python3.6/dist-packages (from keras-applications>=1.0.8->tensorflow-gpu) (2.8.0)\n",
            "Requirement already satisfied: werkzeug>=0.11.15 in /usr/local/lib/python3.6/dist-packages (from tensorboard<2.2.0,>=2.1.0->tensorflow-gpu) (0.16.1)\n",
            "Requirement already satisfied: requests<3,>=2.21.0 in /usr/local/lib/python3.6/dist-packages (from tensorboard<2.2.0,>=2.1.0->tensorflow-gpu) (2.21.0)\n",
            "Collecting google-auth<2,>=1.6.3\n",
            "\u001b[?25l  Downloading https://files.pythonhosted.org/packages/1c/6d/7aae38a9022f982cf8167775c7fc299f203417b698c27080ce09060bba07/google_auth-1.11.0-py2.py3-none-any.whl (76kB)\n",
            "\u001b[K     |████████████████████████████████| 81kB 14.1MB/s \n",
            "\u001b[?25hRequirement already satisfied: google-auth-oauthlib<0.5,>=0.4.1 in /usr/local/lib/python3.6/dist-packages (from tensorboard<2.2.0,>=2.1.0->tensorflow-gpu) (0.4.1)\n",
            "Requirement already satisfied: markdown>=2.6.8 in /usr/local/lib/python3.6/dist-packages (from tensorboard<2.2.0,>=2.1.0->tensorflow-gpu) (3.1.1)\n",
            "Requirement already satisfied: urllib3<1.25,>=1.21.1 in /usr/local/lib/python3.6/dist-packages (from requests<3,>=2.21.0->tensorboard<2.2.0,>=2.1.0->tensorflow-gpu) (1.24.3)\n",
            "Requirement already satisfied: certifi>=2017.4.17 in /usr/local/lib/python3.6/dist-packages (from requests<3,>=2.21.0->tensorboard<2.2.0,>=2.1.0->tensorflow-gpu) (2019.11.28)\n",
            "Requirement already satisfied: chardet<3.1.0,>=3.0.2 in /usr/local/lib/python3.6/dist-packages (from requests<3,>=2.21.0->tensorboard<2.2.0,>=2.1.0->tensorflow-gpu) (3.0.4)\n",
            "Requirement already satisfied: idna<2.9,>=2.5 in /usr/local/lib/python3.6/dist-packages (from requests<3,>=2.21.0->tensorboard<2.2.0,>=2.1.0->tensorflow-gpu) (2.8)\n",
            "Requirement already satisfied: pyasn1-modules>=0.2.1 in /usr/local/lib/python3.6/dist-packages (from google-auth<2,>=1.6.3->tensorboard<2.2.0,>=2.1.0->tensorflow-gpu) (0.2.8)\n",
            "Requirement already satisfied: cachetools<5.0,>=2.0.0 in /usr/local/lib/python3.6/dist-packages (from google-auth<2,>=1.6.3->tensorboard<2.2.0,>=2.1.0->tensorflow-gpu) (4.0.0)\n",
            "Requirement already satisfied: rsa<4.1,>=3.1.4 in /usr/local/lib/python3.6/dist-packages (from google-auth<2,>=1.6.3->tensorboard<2.2.0,>=2.1.0->tensorflow-gpu) (4.0)\n",
            "Requirement already satisfied: requests-oauthlib>=0.7.0 in /usr/local/lib/python3.6/dist-packages (from google-auth-oauthlib<0.5,>=0.4.1->tensorboard<2.2.0,>=2.1.0->tensorflow-gpu) (1.3.0)\n",
            "Requirement already satisfied: pyasn1<0.5.0,>=0.4.6 in /usr/local/lib/python3.6/dist-packages (from pyasn1-modules>=0.2.1->google-auth<2,>=1.6.3->tensorboard<2.2.0,>=2.1.0->tensorflow-gpu) (0.4.8)\n",
            "Requirement already satisfied: oauthlib>=3.0.0 in /usr/local/lib/python3.6/dist-packages (from requests-oauthlib>=0.7.0->google-auth-oauthlib<0.5,>=0.4.1->tensorboard<2.2.0,>=2.1.0->tensorflow-gpu) (3.1.0)\n",
            "\u001b[31mERROR: tensorflow 1.15.0 has requirement tensorboard<1.16.0,>=1.15.0, but you'll have tensorboard 2.1.0 which is incompatible.\u001b[0m\n",
            "\u001b[31mERROR: tensorflow 1.15.0 has requirement tensorflow-estimator==1.15.1, but you'll have tensorflow-estimator 2.1.0 which is incompatible.\u001b[0m\n",
            "\u001b[31mERROR: tensorboard 2.1.0 has requirement grpcio>=1.24.3, but you'll have grpcio 1.15.0 which is incompatible.\u001b[0m\n",
            "\u001b[31mERROR: google-colab 1.0.0 has requirement google-auth~=1.4.0, but you'll have google-auth 1.11.0 which is incompatible.\u001b[0m\n",
            "Installing collected packages: tensorflow-estimator, google-auth, tensorboard, tensorflow-gpu\n",
            "  Found existing installation: tensorflow-estimator 1.15.1\n",
            "    Uninstalling tensorflow-estimator-1.15.1:\n",
            "      Successfully uninstalled tensorflow-estimator-1.15.1\n",
            "  Found existing installation: google-auth 1.4.2\n",
            "    Uninstalling google-auth-1.4.2:\n",
            "      Successfully uninstalled google-auth-1.4.2\n",
            "  Found existing installation: tensorboard 1.15.0\n",
            "    Uninstalling tensorboard-1.15.0:\n",
            "      Successfully uninstalled tensorboard-1.15.0\n",
            "Successfully installed google-auth-1.11.0 tensorboard-2.1.0 tensorflow-estimator-2.1.0 tensorflow-gpu-2.1.0\n"
          ],
          "name": "stdout"
        },
        {
          "output_type": "display_data",
          "data": {
            "application/vnd.colab-display-data+json": {
              "pip_warning": {
                "packages": [
                  "google"
                ]
              }
            }
          },
          "metadata": {
            "tags": []
          }
        }
      ]
    },
    {
      "cell_type": "code",
      "metadata": {
        "id": "vGYtDHnrLtfK",
        "colab_type": "code",
        "colab": {}
      },
      "source": [
        "import json\n",
        "import os\n",
        "import psutil\n",
        "import random\n",
        "import time\n",
        "\n",
        "from google.colab import drive\n",
        "import numpy as np\n",
        "import matplotlib.pyplot as plt\n",
        "\n",
        "import tensorflow as tf\n",
        "from tensorflow.keras import models, layers\n",
        "from tensorflow.keras.datasets import reuters\n",
        "from tensorflow.keras.utils import to_categorical"
      ],
      "execution_count": 0,
      "outputs": []
    },
    {
      "cell_type": "code",
      "metadata": {
        "id": "fatXvG-uDS6S",
        "colab_type": "code",
        "colab": {
          "base_uri": "https://localhost:8080/",
          "height": 34
        },
        "outputId": "706ebfb8-713f-48ae-dfc4-04e5f3add1a7"
      },
      "source": [
        "assert tf.__version__.split(\".\")[0] == \"2\", \"Unexpected version of tensorflow: {}\".format(tf.__version__)\n",
        "assert tf.test.is_gpu_available(), \"No GPU found!\"\n",
        "print(\"Using tensorflow {}\".format(tf.__version__))"
      ],
      "execution_count": 6,
      "outputs": [
        {
          "output_type": "stream",
          "text": [
            "Using tensorflow 2.1.0\n"
          ],
          "name": "stdout"
        }
      ]
    },
    {
      "cell_type": "code",
      "metadata": {
        "id": "wSpE7SG6Mv-n",
        "colab_type": "code",
        "outputId": "c7aced2d-faaf-41b3-b365-6eaf6035671c",
        "colab": {
          "base_uri": "https://localhost:8080/",
          "height": 34
        }
      },
      "source": [
        "def colab_time_left():\n",
        "  start_time = time.time() - psutil.boot_time()\n",
        "  time_left = 12 - start_time / 3600\n",
        "  print('Time remaining for this colab session is: {:.2f} hrs'.format(time_left))\n",
        "colab_time_left()"
      ],
      "execution_count": 9,
      "outputs": [
        {
          "output_type": "stream",
          "text": [
            "Time remaining for this colab session is: 11.90 hrs\n"
          ],
          "name": "stdout"
        }
      ]
    },
    {
      "cell_type": "markdown",
      "metadata": {
        "id": "Men4WYpVQoj5",
        "colab_type": "text"
      },
      "source": [
        "## Load Data"
      ]
    },
    {
      "cell_type": "code",
      "metadata": {
        "id": "lG9hEgtiMEaF",
        "colab_type": "code",
        "outputId": "b5797998-d6aa-4088-c016-07471a3845a6",
        "colab": {
          "base_uri": "https://localhost:8080/",
          "height": 52
        }
      },
      "source": [
        "(train_data, train_labels), (test_data, test_labels) = reuters.load_data(num_words=10000)"
      ],
      "execution_count": 13,
      "outputs": [
        {
          "output_type": "stream",
          "text": [
            "Downloading data from https://storage.googleapis.com/tensorflow/tf-keras-datasets/reuters.npz\n",
            "2113536/2110848 [==============================] - 0s 0us/step\n"
          ],
          "name": "stdout"
        }
      ]
    },
    {
      "cell_type": "code",
      "metadata": {
        "id": "lxotnyQeMPLZ",
        "colab_type": "code",
        "outputId": "c7d69e0d-da2e-43fd-ae28-2136b4452225",
        "colab": {
          "base_uri": "https://localhost:8080/",
          "height": 86
        }
      },
      "source": [
        "print(\"Num training samples: {}\".format(train_data.shape[0]))\n",
        "print(\"Num test samples:     {}\".format(test_data.shape[0]))\n",
        "print(\"Max input value: {}\".format(max(max(x) for x in train_data)))\n",
        "print(\"Max word count: {}\".format(max(len(x) for x in np.hstack((train_data, test_data)))))"
      ],
      "execution_count": 20,
      "outputs": [
        {
          "output_type": "stream",
          "text": [
            "Num training samples: 8982\n",
            "Num test samples:     2246\n",
            "Max input value: 9999\n",
            "Max word count: 2376\n"
          ],
          "name": "stdout"
        }
      ]
    },
    {
      "cell_type": "code",
      "metadata": {
        "id": "knqonj4KNLbq",
        "colab_type": "code",
        "colab": {}
      },
      "source": [
        "word_index = reuters.get_word_index()\n",
        "reverse_word_index = {value: key for key, value in word_index.items()}\n",
        "\n",
        "def decode_newswire(train_sample):\n",
        "  return ' '.join([reverse_word_index.get(i - 3, '?') for i in train_sample])"
      ],
      "execution_count": 0,
      "outputs": []
    },
    {
      "cell_type": "code",
      "metadata": {
        "id": "qrJJPFuVOe_E",
        "colab_type": "code",
        "outputId": "4531b9b0-0e87-4bf1-f81f-689ec73593c8",
        "colab": {
          "base_uri": "https://localhost:8080/",
          "height": 89
        }
      },
      "source": [
        "IDX = random.randint(0, len(train_data))\n",
        "\n",
        "print(\"Training sample {}\".format(IDX))\n",
        "print(decode_newswire(train_data[IDX]))\n",
        "print(\"Label: {}\".format(train_labels[IDX]))"
      ],
      "execution_count": 26,
      "outputs": [
        {
          "output_type": "stream",
          "text": [
            "Training sample 4882\n",
            "? the bank of england said it revised its forecast of the shortage in the money market down to around 700 mln stg from its original estimate of 800 mln reuter 3\n",
            "Label: 19\n"
          ],
          "name": "stdout"
        }
      ]
    },
    {
      "cell_type": "markdown",
      "metadata": {
        "id": "zbVWgKYiQw1O",
        "colab_type": "text"
      },
      "source": [
        "## Transform Data"
      ]
    },
    {
      "cell_type": "code",
      "metadata": {
        "id": "j7WiPENtO0rV",
        "colab_type": "code",
        "colab": {
          "base_uri": "https://localhost:8080/",
          "height": 69
        },
        "outputId": "6cf87908-9aea-478e-8e9c-894c802f9bc4"
      },
      "source": [
        "def vectorize_sequences(sequences, dimension=10000):\n",
        "  results = np.zeros((len(sequences), dimension))\n",
        "  for i, sequence in enumerate(sequences):\n",
        "    results[i, sequence] = 1\n",
        "  return results\n",
        "\n",
        "x_train = vectorize_sequences(train_data)\n",
        "x_test = vectorize_sequences(test_data)\n",
        "\n",
        "one_hot_train_labels = to_categorical(train_labels)\n",
        "one_hot_test_labels = to_categorical(test_labels)\n",
        "\n",
        "print(type(one_hot_test_labels))\n",
        "print(one_hot_train_labels.shape)\n",
        "print(one_hot_test_labels.shape)"
      ],
      "execution_count": 32,
      "outputs": [
        {
          "output_type": "stream",
          "text": [
            "<class 'numpy.ndarray'>\n",
            "(8982, 46)\n",
            "(2246, 46)\n"
          ],
          "name": "stdout"
        }
      ]
    },
    {
      "cell_type": "markdown",
      "metadata": {
        "id": "zywDQN4cSiGN",
        "colab_type": "text"
      },
      "source": [
        "## Define the model, train and evaluate\n"
      ]
    },
    {
      "cell_type": "code",
      "metadata": {
        "id": "Khdv7hDMRXJn",
        "colab_type": "code",
        "colab": {}
      },
      "source": [
        "model = models.Sequential()\n",
        "model.add(layers.Dense(64, activation=\"relu\", input_shape=(10000,)))\n",
        "model.add(layers.Dense(64, activation=\"relu\"))\n",
        "model.add(layers.Dense(46, activation=\"softmax\"))\n",
        "\n",
        "model.compile(\n",
        "    optimizer=\"rmsprop\",\n",
        "    loss=\"categorical_crossentropy\",\n",
        "    metrics=[\"accuracy\"]\n",
        ")"
      ],
      "execution_count": 0,
      "outputs": []
    },
    {
      "cell_type": "code",
      "metadata": {
        "id": "ZQIBEDF1RhPY",
        "colab_type": "code",
        "colab": {}
      },
      "source": [
        "x_val = x_train[:1000]\n",
        "partial_x_train = x_train[1000:]\n",
        "y_val = one_hot_train_labels[:1000]\n",
        "partial_y_train = one_hot_train_labels[1000:]"
      ],
      "execution_count": 0,
      "outputs": []
    },
    {
      "cell_type": "code",
      "metadata": {
        "id": "vN47ox3VVBmR",
        "colab_type": "code",
        "outputId": "cb94590a-7c1c-42b7-f803-1fb115930b31",
        "colab": {
          "base_uri": "https://localhost:8080/",
          "height": 729
        }
      },
      "source": [
        "history = model.fit(\n",
        "    partial_x_train,\n",
        "    partial_y_train,\n",
        "    epochs=20,\n",
        "    batch_size=512,\n",
        "    validation_data=(x_val, y_val)\n",
        ")"
      ],
      "execution_count": 35,
      "outputs": [
        {
          "output_type": "stream",
          "text": [
            "Train on 7982 samples, validate on 1000 samples\n",
            "Epoch 1/20\n",
            "7982/7982 [==============================] - 2s 272us/sample - loss: 2.6550 - accuracy: 0.5452 - val_loss: 1.7677 - val_accuracy: 0.6510\n",
            "Epoch 2/20\n",
            "7982/7982 [==============================] - 0s 47us/sample - loss: 1.4234 - accuracy: 0.7135 - val_loss: 1.3065 - val_accuracy: 0.7150\n",
            "Epoch 3/20\n",
            "7982/7982 [==============================] - 0s 44us/sample - loss: 1.0437 - accuracy: 0.7794 - val_loss: 1.1407 - val_accuracy: 0.7490\n",
            "Epoch 4/20\n",
            "7982/7982 [==============================] - 0s 44us/sample - loss: 0.8186 - accuracy: 0.8302 - val_loss: 1.0465 - val_accuracy: 0.7860\n",
            "Epoch 5/20\n",
            "7982/7982 [==============================] - 0s 46us/sample - loss: 0.6507 - accuracy: 0.8659 - val_loss: 0.9613 - val_accuracy: 0.8130\n",
            "Epoch 6/20\n",
            "7982/7982 [==============================] - 0s 44us/sample - loss: 0.5229 - accuracy: 0.8920 - val_loss: 0.9443 - val_accuracy: 0.8020\n",
            "Epoch 7/20\n",
            "7982/7982 [==============================] - 0s 47us/sample - loss: 0.4228 - accuracy: 0.9142 - val_loss: 0.8981 - val_accuracy: 0.8230\n",
            "Epoch 8/20\n",
            "7982/7982 [==============================] - 0s 45us/sample - loss: 0.3419 - accuracy: 0.9311 - val_loss: 0.9263 - val_accuracy: 0.8060\n",
            "Epoch 9/20\n",
            "7982/7982 [==============================] - 0s 45us/sample - loss: 0.2841 - accuracy: 0.9397 - val_loss: 0.8845 - val_accuracy: 0.8300\n",
            "Epoch 10/20\n",
            "7982/7982 [==============================] - 0s 46us/sample - loss: 0.2364 - accuracy: 0.9460 - val_loss: 0.9346 - val_accuracy: 0.8140\n",
            "Epoch 11/20\n",
            "7982/7982 [==============================] - 0s 46us/sample - loss: 0.2074 - accuracy: 0.9494 - val_loss: 0.9327 - val_accuracy: 0.8210\n",
            "Epoch 12/20\n",
            "7982/7982 [==============================] - 0s 47us/sample - loss: 0.1873 - accuracy: 0.9505 - val_loss: 0.9168 - val_accuracy: 0.8230\n",
            "Epoch 13/20\n",
            "7982/7982 [==============================] - 0s 45us/sample - loss: 0.1634 - accuracy: 0.9550 - val_loss: 0.9367 - val_accuracy: 0.8260\n",
            "Epoch 14/20\n",
            "7982/7982 [==============================] - 0s 46us/sample - loss: 0.1501 - accuracy: 0.9549 - val_loss: 0.9809 - val_accuracy: 0.8160\n",
            "Epoch 15/20\n",
            "7982/7982 [==============================] - 0s 45us/sample - loss: 0.1454 - accuracy: 0.9539 - val_loss: 0.9678 - val_accuracy: 0.8260\n",
            "Epoch 16/20\n",
            "7982/7982 [==============================] - 0s 45us/sample - loss: 0.1316 - accuracy: 0.9567 - val_loss: 1.0043 - val_accuracy: 0.8080\n",
            "Epoch 17/20\n",
            "7982/7982 [==============================] - 0s 46us/sample - loss: 0.1258 - accuracy: 0.9562 - val_loss: 1.0248 - val_accuracy: 0.8140\n",
            "Epoch 18/20\n",
            "7982/7982 [==============================] - 0s 48us/sample - loss: 0.1214 - accuracy: 0.9562 - val_loss: 1.0344 - val_accuracy: 0.8220\n",
            "Epoch 19/20\n",
            "7982/7982 [==============================] - 0s 48us/sample - loss: 0.1155 - accuracy: 0.9587 - val_loss: 1.0632 - val_accuracy: 0.8080\n",
            "Epoch 20/20\n",
            "7982/7982 [==============================] - 0s 43us/sample - loss: 0.1116 - accuracy: 0.9567 - val_loss: 1.0883 - val_accuracy: 0.8030\n"
          ],
          "name": "stdout"
        }
      ]
    },
    {
      "cell_type": "code",
      "metadata": {
        "id": "zeTcdZEyWUIR",
        "colab_type": "code",
        "outputId": "f17d1573-434e-4d41-ebee-c209386fcde4",
        "colab": {
          "base_uri": "https://localhost:8080/",
          "height": 34
        }
      },
      "source": [
        "history_dict = history.history\n",
        "history_dict.keys()"
      ],
      "execution_count": 36,
      "outputs": [
        {
          "output_type": "execute_result",
          "data": {
            "text/plain": [
              "dict_keys(['loss', 'accuracy', 'val_loss', 'val_accuracy'])"
            ]
          },
          "metadata": {
            "tags": []
          },
          "execution_count": 36
        }
      ]
    },
    {
      "cell_type": "code",
      "metadata": {
        "id": "XbwyKT3KWt7c",
        "colab_type": "code",
        "outputId": "f3d6c510-4301-4745-ce1f-f7cee51034b6",
        "colab": {
          "base_uri": "https://localhost:8080/",
          "height": 621
        }
      },
      "source": [
        "loss = history_dict[\"loss\"]\n",
        "val_loss = history_dict[\"val_loss\"]\n",
        "acc = history_dict[\"accuracy\"]\n",
        "val_acc = history_dict[\"val_accuracy\"]\n",
        "\n",
        "epochs = range(1, len(loss) + 1)\n",
        "\n",
        "plt.figure(figsize=(10, 10))\n",
        "\n",
        "plt.subplot(211)\n",
        "plt.plot(epochs, loss, \"bo\", label=\"Training Loss\")\n",
        "plt.plot(epochs, val_loss, \"b\", label=\"Validation Loss\")\n",
        "plt.title(\"Training and Validation Loss\")\n",
        "plt.xlabel(\"epoch\")\n",
        "plt.ylabel(\"loss\")\n",
        "plt.legend()\n",
        "\n",
        "plt.subplot(212)\n",
        "plt.plot(epochs, acc, \"bo\", label=\"Training Accuracy\")\n",
        "plt.plot(epochs, val_acc, \"b\", label=\"Validation Accuracy\")\n",
        "plt.title(\"Training and Validation Accuracy\")\n",
        "plt.xlabel(\"epoch\")\n",
        "plt.ylabel(\"accuracy\")\n",
        "plt.legend();"
      ],
      "execution_count": 37,
      "outputs": [
        {
          "output_type": "display_data",
          "data": {
            "image/png": "[encoded data removed]",
            "text/plain": [
              "<Figure size 720x720 with 2 Axes>"
            ]
          },
          "metadata": {
            "tags": []
          }
        }
      ]
    },
    {
      "cell_type": "code",
      "metadata": {
        "id": "yQNjE0hqXVF0",
        "colab_type": "code",
        "outputId": "ee36dce1-fe0e-41b1-9619-47d0b993418d",
        "colab": {
          "base_uri": "https://localhost:8080/",
          "height": 69
        }
      },
      "source": [
        "test_loss, test_acc = model.evaluate(x_test, one_hot_test_labels)\n",
        "print(\"Test Loss: {}\".format(test_loss))\n",
        "print(\"Test Accuracy: {}\".format(test_acc))"
      ],
      "execution_count": 39,
      "outputs": [
        {
          "output_type": "stream",
          "text": [
            "2246/2246 [==============================] - 0s 103us/sample - loss: 1.2536 - accuracy: 0.7912\n",
            "Test Loss: 1.2536303744396777\n",
            "Test Accuracy: 0.7911843061447144\n"
          ],
          "name": "stdout"
        }
      ]
    },
    {
      "cell_type": "code",
      "metadata": {
        "id": "wjx6Jcu5WjrR",
        "colab_type": "code",
        "colab": {
          "base_uri": "https://localhost:8080/",
          "height": 729
        },
        "outputId": "bac43d67-bf6b-4b03-e3bc-656866046696"
      },
      "source": [
        "model = models.Sequential()\n",
        "model.add(layers.Dense(64, activation=\"relu\", input_shape=(10000,)))\n",
        "model.add(layers.Dense(4, activation=\"relu\"))\n",
        "model.add(layers.Dense(46, activation=\"softmax\"))\n",
        "\n",
        "model.compile(\n",
        "    optimizer=\"rmsprop\",\n",
        "    loss=\"categorical_crossentropy\",\n",
        "    metrics=[\"accuracy\"]\n",
        ")\n",
        "\n",
        "history = model.fit(\n",
        "    partial_x_train,\n",
        "    partial_y_train,\n",
        "    epochs=20,\n",
        "    batch_size=512,\n",
        "    validation_data=(x_val, y_val)\n",
        ")"
      ],
      "execution_count": 45,
      "outputs": [
        {
          "output_type": "stream",
          "text": [
            "Train on 7982 samples, validate on 1000 samples\n",
            "Epoch 1/20\n",
            "7982/7982 [==============================] - 1s 94us/sample - loss: 3.6601 - accuracy: 0.0154 - val_loss: 3.4686 - val_accuracy: 0.0220\n",
            "Epoch 2/20\n",
            "7982/7982 [==============================] - 0s 45us/sample - loss: 3.3237 - accuracy: 0.0322 - val_loss: 3.2069 - val_accuracy: 0.0330\n",
            "Epoch 3/20\n",
            "7982/7982 [==============================] - 0s 45us/sample - loss: 3.0214 - accuracy: 0.1421 - val_loss: 2.9193 - val_accuracy: 0.3640\n",
            "Epoch 4/20\n",
            "7982/7982 [==============================] - 0s 45us/sample - loss: 2.6665 - accuracy: 0.4762 - val_loss: 2.5660 - val_accuracy: 0.5520\n",
            "Epoch 5/20\n",
            "7982/7982 [==============================] - 0s 45us/sample - loss: 2.2512 - accuracy: 0.5928 - val_loss: 2.1833 - val_accuracy: 0.5940\n",
            "Epoch 6/20\n",
            "7982/7982 [==============================] - 0s 44us/sample - loss: 1.8535 - accuracy: 0.6323 - val_loss: 1.8765 - val_accuracy: 0.6060\n",
            "Epoch 7/20\n",
            "7982/7982 [==============================] - 0s 49us/sample - loss: 1.5687 - accuracy: 0.6591 - val_loss: 1.7041 - val_accuracy: 0.6300\n",
            "Epoch 8/20\n",
            "7982/7982 [==============================] - 0s 43us/sample - loss: 1.3931 - accuracy: 0.6699 - val_loss: 1.5940 - val_accuracy: 0.6340\n",
            "Epoch 9/20\n",
            "7982/7982 [==============================] - 0s 45us/sample - loss: 1.2727 - accuracy: 0.6795 - val_loss: 1.5263 - val_accuracy: 0.6360\n",
            "Epoch 10/20\n",
            "7982/7982 [==============================] - 0s 46us/sample - loss: 1.1820 - accuracy: 0.6812 - val_loss: 1.4859 - val_accuracy: 0.6430\n",
            "Epoch 11/20\n",
            "7982/7982 [==============================] - 0s 46us/sample - loss: 1.1059 - accuracy: 0.6933 - val_loss: 1.4433 - val_accuracy: 0.6530\n",
            "Epoch 12/20\n",
            "7982/7982 [==============================] - 0s 46us/sample - loss: 1.0384 - accuracy: 0.7190 - val_loss: 1.4230 - val_accuracy: 0.6610\n",
            "Epoch 13/20\n",
            "7982/7982 [==============================] - 0s 45us/sample - loss: 0.9790 - accuracy: 0.7352 - val_loss: 1.4128 - val_accuracy: 0.6710\n",
            "Epoch 14/20\n",
            "7982/7982 [==============================] - 0s 43us/sample - loss: 0.9267 - accuracy: 0.7430 - val_loss: 1.3848 - val_accuracy: 0.6710\n",
            "Epoch 15/20\n",
            "7982/7982 [==============================] - 0s 43us/sample - loss: 0.8818 - accuracy: 0.7511 - val_loss: 1.3739 - val_accuracy: 0.6760\n",
            "Epoch 16/20\n",
            "7982/7982 [==============================] - 0s 45us/sample - loss: 0.8364 - accuracy: 0.7570 - val_loss: 1.3782 - val_accuracy: 0.6730\n",
            "Epoch 17/20\n",
            "7982/7982 [==============================] - 0s 45us/sample - loss: 0.7966 - accuracy: 0.7667 - val_loss: 1.3585 - val_accuracy: 0.6850\n",
            "Epoch 18/20\n",
            "7982/7982 [==============================] - 0s 44us/sample - loss: 0.7567 - accuracy: 0.7845 - val_loss: 1.3621 - val_accuracy: 0.6930\n",
            "Epoch 19/20\n",
            "7982/7982 [==============================] - 0s 46us/sample - loss: 0.7196 - accuracy: 0.8041 - val_loss: 1.3658 - val_accuracy: 0.6930\n",
            "Epoch 20/20\n",
            "7982/7982 [==============================] - 0s 41us/sample - loss: 0.6844 - accuracy: 0.8191 - val_loss: 1.3775 - val_accuracy: 0.6950\n"
          ],
          "name": "stdout"
        }
      ]
    },
    {
      "cell_type": "code",
      "metadata": {
        "id": "K8_Ulr2VWm8c",
        "colab_type": "code",
        "colab": {
          "base_uri": "https://localhost:8080/",
          "height": 69
        },
        "outputId": "e24bbdf7-9e0c-4426-ae44-e528c95c2282"
      },
      "source": [
        "test_loss, test_acc = model.evaluate(x_test, one_hot_test_labels)\n",
        "print(\"Test Loss: {}\".format(test_loss))\n",
        "print(\"Test Accuracy: {}\".format(test_acc))"
      ],
      "execution_count": 46,
      "outputs": [
        {
          "output_type": "stream",
          "text": [
            "2246/2246 [==============================] - 0s 104us/sample - loss: 1.5060 - accuracy: 0.6772\n",
            "Test Loss: 1.5059987023167598\n",
            "Test Accuracy: 0.677203893661499\n"
          ],
          "name": "stdout"
        }
      ]
    },
    {
      "cell_type": "markdown",
      "metadata": {
        "id": "2Lxwv7wLW2WI",
        "colab_type": "text"
      },
      "source": [
        "Random Guessing"
      ]
    },
    {
      "cell_type": "code",
      "metadata": {
        "id": "FKo-JeGLW0I6",
        "colab_type": "code",
        "colab": {
          "base_uri": "https://localhost:8080/",
          "height": 34
        },
        "outputId": "0c8c5ec3-05e3-4615-abbd-cb2d0b7eb382"
      },
      "source": [
        "import copy\n",
        "\n",
        "test_labels_copy = copy.copy(test_labels)\n",
        "np.random.shuffle(test_labels_copy)\n",
        "hits_array = np.array(test_labels) == np.array(test_labels_copy)\n",
        "float(np.sum(hits_array) / len(test_labels))"
      ],
      "execution_count": 43,
      "outputs": [
        {
          "output_type": "execute_result",
          "data": {
            "text/plain": [
              "0.18655387355298308"
            ]
          },
          "metadata": {
            "tags": []
          },
          "execution_count": 43
        }
      ]
    },
    {
      "cell_type": "markdown",
      "metadata": {
        "id": "oDLfcTunXYVZ",
        "colab_type": "text"
      },
      "source": [
        "# Generating Predictions on the Test Data"
      ]
    },
    {
      "cell_type": "code",
      "metadata": {
        "id": "QtJLs3GMXdBx",
        "colab_type": "code",
        "colab": {
          "base_uri": "https://localhost:8080/",
          "height": 86
        },
        "outputId": "98f3c06f-b4d8-4d1a-a327-31ee47fd684e"
      },
      "source": [
        "predictions = model.predict(x_test)\n",
        "\n",
        "print(\"Prediction shape: {}\".format(predictions[0].shape))\n",
        "print(\"Total probability: {}\".format(np.sum(predictions[0])))\n",
        "print(\"Predicted class: {}\".format(np.argmax(predictions[0])))\n",
        "print(\"Prediction confidence: {}\".format(np.max(predictions[0])))"
      ],
      "execution_count": 44,
      "outputs": [
        {
          "output_type": "stream",
          "text": [
            "Prediction shape: (46,)\n",
            "Total probability: 0.9999999403953552\n",
            "Predicted class: 3\n",
            "Prediction confidence: 0.9899937510490417\n"
          ],
          "name": "stdout"
        }
      ]
    },
    {
      "cell_type": "code",
      "metadata": {
        "id": "CMxSJThys9PA",
        "colab_type": "code",
        "colab": {}
      },
      "source": [
        ""
      ],
      "execution_count": 0,
      "outputs": []
    }
  ]
}